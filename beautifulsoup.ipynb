{
 "cells": [
  {
   "cell_type": "code",
   "execution_count": 7,
   "metadata": {
    "collapsed": true
   },
   "outputs": [],
   "source": [
    "import requests\n",
    "\n",
    "url='https://www.github.com'\n",
    "import bs4"
   ]
  },
  {
   "cell_type": "code",
   "execution_count": 9,
   "metadata": {
    "collapsed": true
   },
   "outputs": [],
   "source": [
    "page=requests.get(url)\n",
    "soup=bs4.BeautifulSoup(page.content,\"lxml\")"
   ]
  },
  {
   "cell_type": "code",
   "execution_count": 12,
   "metadata": {},
   "outputs": [
    {
     "name": "stdout",
     "output_type": "stream",
     "text": [
      "The world's leading software development platform · GitHub\n"
     ]
    }
   ],
   "source": [
    "print(soup.title.string)"
   ]
  },
  {
   "cell_type": "code",
   "execution_count": 14,
   "metadata": {},
   "outputs": [
    {
     "data": {
      "text/plain": [
       "'\\n\\n\\n\\n\\n\\n\\n\\n\\n\\n\\n\\n\\n\\nThe world\\'s leading software development platform · GitHub\\n\\n\\n\\n\\n\\n\\n\\n\\n\\n\\n\\n\\n\\n\\n\\n\\n\\n\\n\\n\\n\\n\\n\\n\\n\\n\\n\\n\\n\\n\\n\\n\\n\\n\\n\\n\\n\\n\\n\\n\\n\\n\\n\\n\\n\\n\\n\\n\\n\\nSkip to content\\n\\n\\n\\n\\n\\n\\n\\n\\n\\n\\n\\n\\n\\n\\n\\n\\n\\n\\n                  Features\\n \\n\\n\\n                  Business\\n \\n\\n\\n                  Explore\\n \\n\\n\\n                      Marketplace\\n \\n\\n\\n                  Pricing\\n \\n\\n\\n\\n\\n\\n\\n\\n/dashboard\\n\\n\\n\\n\\n\\n\\n\\nSign in\\nor\\nSign up\\n\\n\\n\\n\\n\\n\\n\\n\\n\\n\\n\\n\\n\\n\\n\\nBuilt for developers\\n\\n          GitHub is a development platform inspired by the way you work. From open source to business, you can host and review code, manage projects, and build software alongside millions of other\\xa0developers.\\n        \\n\\n\\n\\n \\n\\nUsername\\n\\n\\n\\n\\n\\n\\n\\nEmail\\n\\n\\n\\n\\n\\n\\n\\nPassword\\n\\n\\n\\n\\nUse at least one letter, one numeral, and seven characters.\\n\\n\\n\\n\\n\\nSign up for GitHub\\n\\n                By clicking \"Sign up for GitHub\", you agree to our\\n                terms of service and\\n                privacy policy. We’ll occasionally send you account related emails.\\n\\n \\n\\n\\nSign up for GitHub\\n\\n\\n\\n\\n\\n\\n\\n      GitHub for teams\\n    \\n\\n      A better way to work together\\n    \\n\\n      GitHub brings teams together to work through problems, move ideas forward, and learn from each other along the way.\\n    \\n\\nSign up your team\\n\\n\\n\\n\\n\\n\\n\\n\\n\\n\\n\\n\\n\\n\\nWrite better code\\nCollaboration makes perfect. The conversations and code reviews that happen in Pull Requests help your team share the weight of your work and improve the software you build. Learn about code review.\\n\\n\\n\\n\\n\\n\\n\\n\\n\\n\\nManage your chaos\\nTake a deep breath. On GitHub, project management happens in Issues and Projects, right alongside your code. All you have to do is mention a teammate to get them involved. Learn about project management.\\n\\n\\n\\n\\n\\n\\n\\n\\n\\n\\nFind the right tools\\nBrowse and buy apps from GitHub Marketplace with your GitHub account. Find the tools you like or discover new favorites—then start using them in minutes. Learn about integrations.\\n\\n\\n\\n\\n\\n\\n\\n\\n\\n\\n\\n      Security and administration\\n    \\n\\n      Boxes? Check.\\n    \\n\\n      We worry about your administrative and security needs so you don’t have to. From flexible hosting to authentication options, GitHub can help you meet your team’s requirements.\\n    \\n\\n\\n        Learn about GitHub for Business\\n      \\n\\n\\n\\n\\n\\n\\nCode security\\n\\n          Prevent problems before they happen. Protected branches, signed commits, and required status checks protect your work and help you maintain a high standard for your code.\\n        \\nAccess controlled\\n\\n          Encourage teams to work together while limiting access to those who need it with granular permissions and authentication through SAML/SSO and LDAP.\\n        \\n\\n\\n\\n\\n1clr-code-hosting\\n\\n\\nHosted where you need it\\nSecurely and reliably host your work on GitHub.com. Or, deploy GitHub Enterprise on your own servers or in a private cloud using Amazon Web Services, Azure or Google Cloud Platform.\\n\\nCompare plans\\n\\n\\n\\n\\n\\n\\n\\n\\n\\n        Integrations\\n      \\n\\n        Build on GitHub\\n      \\n\\n        Customize your process with GitHub apps and an intuitive API. Integrate the tools you already use or discover new favorites to create a happier, more efficient way of working.\\n      \\n\\nLearn about integrations\\n\\n\\n\\n\\n\\n\\n\\n\\n\\n\\n\\n\\n\\n        Sometimes, there’s more than one tool for the job. Why not try something new?\\n      \\n\\nBrowse GitHub Marketplace\\n\\n\\n\\n\\n\\n\\n\\n      Community\\n    \\n\\n      Welcome home, developers\\n    \\n\\n        GitHub is home to the world’s largest community of developers and their\\xa0projects...\\n      \\n\\n\\n\\n\\n\\n\\n\\n\\n\\nAriya Hidayat\\n\\n            PhantomJS maintainer\\n        \\n\\n\\n\\n\\n\\n\\n\\n\\n\\n\\n\\nRussell Keith-Magee\\n\\n            PyBee maintainer\\n        \\n\\n\\n\\n\\n\\n\\n\\n\\n\\n\\n\\nMailChimp\\n\\n            Marketing customer\\n        \\n\\n\\n\\n\\n\\n\\n\\n\\n\\n\\n\\nKris Nova\\n\\n            Kubernetes/kops maintainer\\n        \\n\\n\\n\\n\\n\\n\\n\\n\\n\\n\\n\\nEvan You\\n\\n            Vue maintainer\\n        \\n\\n\\n\\n\\n\\n\\n\\n\\n\\n\\n\\nMapbox\\n\\n            Software customer\\n        \\n\\n\\n\\n\\n\\n\\n\\n\\n\\n\\n\\nJess Frazelle\\n\\n            Kubernetes, previously Docker maintainer\\n        \\n\\n\\n\\n\\n\\n\\n\\n        ...whether you’re making your first commit or sending a Rover to Mars, there’s room for you here, too.\\n      \\n\\n\\n\\n\\n79M\\nrepositories worldwide\\n\\n\\nGitHub’s users create and maintain influential technologies alongside the world\\'s largest open source\\xa0community.\\n\\n\\n\\n\\n\\n28M\\ndevelopers worldwide\\n\\n\\nDevelopers use GitHub for personal projects, from experimenting with new programming languages to hosting their life’s work.\\n\\n\\n\\n\\n\\n117K\\nbusinesses worldwide\\n\\n\\nBusinesses of all sizes use GitHub to support their development process and to securely build software.\\n\\n\\n\\n\\n\\n\\n\\n        More than a million teams use GitHub\\n      \\n\\n\\n\\n\\n\\n\\n\\n\\n\\n\\n\\n\\n\\n\\n\\n\\n\\n\\n\\n\\n        Get started for free — join the millions of developers already using GitHub to share their code, work together, and build amazing things.\\n      \\n\\n\\n \\n\\n\\nUsername\\n\\n\\n\\n\\n\\n\\n\\nEmail\\n\\n\\n\\n\\n\\n\\n\\nPassword\\n\\n\\n\\n\\n\\n\\n\\n\\n\\n\\nSign up for GitHub\\n\\n\\n\\n          By clicking \"Sign up for GitHub\", you agree to our\\n          terms of service and\\n          privacy policy. We’ll occasionally send you account related emails.\\n\\n \\n\\n\\n\\n\\n\\n\\n\\n\\n        © 2018\\n      \\n\\n\\nFeatures\\n\\nCode review\\nProject management\\nCommunity\\nDocumentation\\nCode hosting\\n\\n\\n\\nPlatform\\n\\nAtom\\nElectron\\nGitHub Desktop\\nDeveloper API\\n\\n\\n\\nCommunity\\n\\nPersonal\\nOpen source\\nBusiness\\nEducation\\nCustomers\\nPartners\\nSponsorships\\n\\n\\n\\nCompany\\n\\nAbout\\nBlog\\nCareers\\nPress\\nShop\\n\\n\\n\\nResources\\n\\nContact GitHub\\nCommunity Forum\\nHelp\\nStatus\\nTerms\\nPrivacy\\nSecurity\\nTraining\\n\\n\\n\\n\\n\\n\\n\\n\\n\\n    You can\\'t perform that action at this time.\\n  \\n\\n\\n\\n\\n\\nYou signed in with another tab or window. Reload to refresh your session.\\nYou signed out in another tab or window. Reload to refresh your session.\\n\\n\\n\\n\\n\\n\\n\\n\\n\\n\\n\\n\\n'"
      ]
     },
     "execution_count": 14,
     "metadata": {},
     "output_type": "execute_result"
    }
   ],
   "source": [
    "soup.text"
   ]
  },
  {
   "cell_type": "code",
   "execution_count": 15,
   "metadata": {
    "collapsed": true
   },
   "outputs": [],
   "source": [
    "tag=soup.a"
   ]
  },
  {
   "cell_type": "code",
   "execution_count": 16,
   "metadata": {},
   "outputs": [
    {
     "data": {
      "text/plain": [
       "<a class=\"px-2 py-4 show-on-focus js-skip-to-content\" href=\"#start-of-content\" tabindex=\"1\">Skip to content</a>"
      ]
     },
     "execution_count": 16,
     "metadata": {},
     "output_type": "execute_result"
    }
   ],
   "source": [
    "tag"
   ]
  },
  {
   "cell_type": "code",
   "execution_count": 17,
   "metadata": {},
   "outputs": [
    {
     "data": {
      "text/plain": [
       "'a'"
      ]
     },
     "execution_count": 17,
     "metadata": {},
     "output_type": "execute_result"
    }
   ],
   "source": [
    "tag.name"
   ]
  },
  {
   "cell_type": "code",
   "execution_count": 19,
   "metadata": {
    "collapsed": true
   },
   "outputs": [],
   "source": [
    "tag.attr"
   ]
  },
  {
   "cell_type": "code",
   "execution_count": 20,
   "metadata": {},
   "outputs": [
    {
     "data": {
      "text/plain": [
       "[<a class=\"px-2 py-4 show-on-focus js-skip-to-content\" href=\"#start-of-content\" tabindex=\"1\">Skip to content</a>,\n",
       " <a aria-label=\"Homepage\" class=\"header-logo-invertocat my-0\" data-ga-click=\"(Logged out) Header, go to homepage, icon:logo-wordmark\" href=\"https://github.com/\">\n",
       " <svg aria-hidden=\"true\" class=\"octicon octicon-mark-github\" height=\"32\" version=\"1.1\" viewbox=\"0 0 16 16\" width=\"32\"><path d=\"M8 0C3.58 0 0 3.58 0 8c0 3.54 2.29 6.53 5.47 7.59.4.07.55-.17.55-.38 0-.19-.01-.82-.01-1.49-2.01.37-2.53-.49-2.69-.94-.09-.23-.48-.94-.82-1.13-.28-.15-.68-.52-.01-.53.63-.01 1.08.58 1.23.82.72 1.21 1.87.87 2.33.66.07-.52.28-.87.51-1.07-1.78-.2-3.64-.89-3.64-3.95 0-.87.31-1.59.82-2.15-.08-.2-.36-1.02.08-2.12 0 0 .67-.21 2.2.82.64-.18 1.32-.27 2-.27.68 0 1.36.09 2 .27 1.53-1.04 2.2-.82 2.2-.82.44 1.1.16 1.92.08 2.12.51.56.82 1.27.82 2.15 0 3.07-1.87 3.75-3.65 3.95.29.25.54.73.54 1.48 0 1.07-.01 1.93-.01 2.2 0 .21.15.46.55.38A8.013 8.013 0 0 0 16 8c0-4.42-3.58-8-8-8z\" fill-rule=\"evenodd\"></path></svg>\n",
       " </a>,\n",
       " <a class=\"js-selected-navigation-item HeaderNavlink px-0 py-3 py-lg-2 m-0\" data-ga-click=\"Header, click, Nav menu - item:features\" data-selected-links=\"/features /features/project-management /features/code-review /features/project-management /features/integrations /features\" href=\"/features\">\n",
       "                   Features\n",
       " </a>,\n",
       " <a class=\"js-selected-navigation-item HeaderNavlink px-0 py-3 py-lg-2 m-0\" data-ga-click=\"Header, click, Nav menu - item:business\" data-selected-links=\"/business /business/security /business/customers /business\" href=\"/business\">\n",
       "                   Business\n",
       " </a>,\n",
       " <a class=\"js-selected-navigation-item HeaderNavlink px-0 py-3 py-lg-2 m-0\" data-ga-click=\"Header, click, Nav menu - item:explore\" data-selected-links=\"/explore /trending /trending/developers /integrations /integrations/feature/code /integrations/feature/collaborate /integrations/feature/ship showcases showcases_search showcases_landing /explore\" href=\"/explore\">\n",
       "                   Explore\n",
       " </a>,\n",
       " <a class=\"js-selected-navigation-item HeaderNavlink px-0 py-3 py-lg-2 m-0\" data-ga-click=\"Header, click, Nav menu - item:marketplace\" data-selected-links=\" /marketplace\" href=\"/marketplace\">\n",
       "                       Marketplace\n",
       " </a>,\n",
       " <a class=\"js-selected-navigation-item HeaderNavlink px-0 py-3 py-lg-2 m-0\" data-ga-click=\"Header, click, Nav menu - item:pricing\" data-selected-links=\"/pricing /pricing/developer /pricing/team /pricing/business-hosted /pricing/business-enterprise /pricing\" href=\"/pricing\">\n",
       "                   Pricing\n",
       " </a>,\n",
       " <a class=\"header-search-scope no-underline\" href=\"/dashboard\">/dashboard</a>,\n",
       " <a class=\"text-bold text-white no-underline\" data-ga-click=\"(Logged out) Header, clicked Sign in, text:sign-in\" href=\"/login\">Sign in</a>,\n",
       " <a class=\"text-bold text-white no-underline\" data-ga-click=\"(Logged out) Header, clicked Sign up, text:sign-up\" href=\"/join?source=header-home\">Sign up</a>,\n",
       " <a class=\"text-white jumbotron-link\" href=\"/open-source\">open source</a>,\n",
       " <a class=\"text-white jumbotron-link\" href=\"/business\">business</a>,\n",
       " <a class=\"\" href=\"https://help.github.com/terms\" target=\"_blank\">terms of service</a>,\n",
       " <a class=\"\" href=\"https://help.github.com/privacy\" target=\"_blank\">privacy policy</a>,\n",
       " <a class=\"btn btn-primary btn-large border-0\" data-ga-click=\"Signup, Attempt, location:jumbotron;\" href=\"/join?source=button-home\" rel=\"nofollow\">Sign up for GitHub</a>,\n",
       " <a class=\"btn btn-large btn-outline\" data-ga-click=\"Signup, Attempt, location:teams;\" href=\"/join?plan=business&amp;setup_organization=true&amp;source=business-page\">Sign up your team</a>,\n",
       " <a class=\"summarylink\" href=\"/features/code-review\">\n",
       " <div class=\"summarylink-illustration\">\n",
       " <img alt=\"\" class=\"width-fit mx-auto\" src=\"https://assets-cdn.github.com/images/modules/site/home-illo-team-code.svg\"/>\n",
       " </div>\n",
       " <div class=\"summarylink-btn d-flex flex-justify-between flex-items-center f5 text-gray-dark rounded-1 p-sm-4 my-4 my-sm-0\">\n",
       " <div class=\"col-10\">\n",
       " <h3 class=\"alt-h3 mb-1\">Write better code</h3>\n",
       " <p class=\"mb-0\">Collaboration makes perfect. The conversations and code reviews that happen in Pull Requests help your team share the weight of your work and improve the software you build. <span class=\"text-blue\">Learn about code review.</span></p>\n",
       " </div>\n",
       " <svg aria-hidden=\"true\" class=\"octicon octicon-triangle-right text-blue\" height=\"16\" version=\"1.1\" viewbox=\"0 0 6 16\" width=\"6\"><path d=\"M0 14l6-6-6-6z\" fill-rule=\"evenodd\"></path></svg>\n",
       " </div>\n",
       " </a>,\n",
       " <a class=\"summarylink\" href=\"/features/project-management\">\n",
       " <div class=\"summarylink-illustration\">\n",
       " <img alt=\"\" class=\"width-fit mx-auto\" src=\"https://assets-cdn.github.com/images/modules/site/home-illo-team-chaos.svg\"/>\n",
       " </div>\n",
       " <div class=\"summarylink-btn d-flex flex-justify-between flex-items-center f5 text-gray-dark rounded-1 p-sm-4 my-4 my-sm-0\">\n",
       " <div class=\"col-10\">\n",
       " <h3 class=\"alt-h3 mb-1\">Manage your chaos</h3>\n",
       " <p class=\"mb-0\">Take a deep breath. On GitHub, project management happens in Issues and Projects, right alongside your code. All you have to do is mention a teammate to get them involved. <span class=\"text-blue\">Learn about project management.</span></p>\n",
       " </div>\n",
       " <svg aria-hidden=\"true\" class=\"octicon octicon-triangle-right text-blue\" height=\"16\" version=\"1.1\" viewbox=\"0 0 6 16\" width=\"6\"><path d=\"M0 14l6-6-6-6z\" fill-rule=\"evenodd\"></path></svg>\n",
       " </div>\n",
       " </a>,\n",
       " <a class=\"summarylink\" href=\"/features/integrations\">\n",
       " <div class=\"summarylink-illustration\">\n",
       " <img alt=\"\" class=\"width-fit mx-auto\" src=\"https://assets-cdn.github.com/images/modules/site/home-illo-team-tools.svg\"/>\n",
       " </div>\n",
       " <div class=\"summarylink-btn d-flex flex-justify-between flex-items-center f5 text-gray-dark rounded-1 p-sm-4 my-4 my-sm-0\">\n",
       " <div class=\"col-10\">\n",
       " <h3 class=\"alt-h3 mb-1\">Find the right tools</h3>\n",
       " <p class=\"mb-0\">Browse and buy apps from GitHub Marketplace with your GitHub account. Find the tools you like or discover new favorites—then start using them in minutes. <span class=\"text-blue\">Learn about integrations.</span></p>\n",
       " </div>\n",
       " <svg aria-hidden=\"true\" class=\"octicon octicon-triangle-right text-blue\" height=\"16\" version=\"1.1\" viewbox=\"0 0 6 16\" width=\"6\"><path d=\"M0 14l6-6-6-6z\" fill-rule=\"evenodd\"></path></svg>\n",
       " </div>\n",
       " </a>,\n",
       " <a class=\"btn btn-large btn-outline mx-auto\" href=\"/business\">\n",
       "         Learn about GitHub for Business\n",
       "       </a>,\n",
       " <a href=\"/pricing\">Compare plans<span class=\"no-wrap\"><svg aria-hidden=\"true\" class=\"octicon octicon-chevron-right ml-2 v-align-text-bottom\" height=\"16\" version=\"1.1\" viewbox=\"0 0 8 16\" width=\"8\"><path d=\"M7.5 8l-5 5L1 11.5 4.75 8 1 4.5 2.5 3z\" fill-rule=\"evenodd\"></path></svg></span></a>,\n",
       " <a class=\"btn btn-large btn-outline mx-auto\" href=\"/features/integrations\">Learn about integrations</a>,\n",
       " <a href=\"/marketplace\">Browse GitHub <span class=\"no-wrap\">Marketplace<svg aria-hidden=\"true\" class=\"octicon octicon-chevron-right ml-2 v-align-text-bottom\" height=\"16\" version=\"1.1\" viewbox=\"0 0 8 16\" width=\"8\"><path d=\"M7.5 8l-5 5L1 11.5 4.75 8 1 4.5 2.5 3z\" fill-rule=\"evenodd\"></path></svg></span></a>,\n",
       " <a class=\"story-link d-block d-lg-flex height-full rounded-1 box-shadow-extra-large\" href=\" /open-source/stories/ariya \">\n",
       " <div class=\"col-lg-6 position-relative\">\n",
       " <img alt=\"Ariya\" class=\"d-block width-full\" src=\"https://assets-cdn.github.com/images/modules/site/stories/developers/ariya.png\"/>\n",
       " </div>\n",
       " <div class=\"d-lg-flex flex-items-center col-lg-6\">\n",
       " <div class=\"width-full text-center p-3 py-lg-0\">\n",
       " <h1 class=\"story-title f2-light link-gray-dark lh-condensed mb-1\">Ariya Hidayat</h1>\n",
       " <p class=\"f6 text-gray\">\n",
       "             PhantomJS maintainer\n",
       "         </p>\n",
       " </div>\n",
       " </div>\n",
       " </a>,\n",
       " <a class=\"story-link d-block d-lg-flex height-full rounded-1 box-shadow-extra-large\" href=\" /open-source/stories/freakboy3742 \">\n",
       " <div class=\"col-lg-6 position-relative\">\n",
       " <img alt=\"Freakboy3742\" class=\"d-block width-full\" src=\"https://assets-cdn.github.com/images/modules/site/stories/developers/freakboy3742.png\"/>\n",
       " </div>\n",
       " <div class=\"d-lg-flex flex-items-center col-lg-6\">\n",
       " <div class=\"width-full text-center p-3 py-lg-0\">\n",
       " <h1 class=\"story-title f2-light link-gray-dark lh-condensed mb-1\">Russell Keith-Magee</h1>\n",
       " <p class=\"f6 text-gray\">\n",
       "             PyBee maintainer\n",
       "         </p>\n",
       " </div>\n",
       " </div>\n",
       " </a>,\n",
       " <a class=\"story-link story-link--customer d-block d-lg-flex height-full rounded-1 box-shadow-extra-large\" href=\" /business/customers/mailchimp \">\n",
       " <div class=\"col-lg-6 position-relative\">\n",
       " <img alt=\"Mailchimp\" class=\"d-block width-full\" src=\"https://assets-cdn.github.com/images/modules/site/stories/customers/mailchimp.png\"/>\n",
       " </div>\n",
       " <div class=\"d-lg-flex flex-items-center col-lg-6\">\n",
       " <div class=\"width-full text-center p-3 py-lg-0\">\n",
       " <h1 class=\"story-title f2-light link-gray-dark lh-condensed mb-1\">MailChimp</h1>\n",
       " <p class=\"f6 text-gray\">\n",
       "             Marketing customer\n",
       "         </p>\n",
       " </div>\n",
       " </div>\n",
       " </a>,\n",
       " <a class=\"story-link d-block d-lg-flex height-full rounded-1 box-shadow-extra-large\" href=\" /open-source/stories/kris-nova \">\n",
       " <div class=\"col-lg-6 position-relative\">\n",
       " <img alt=\"Kris-nova\" class=\"d-block width-full\" src=\"https://assets-cdn.github.com/images/modules/site/stories/developers/kris-nova.png\"/>\n",
       " </div>\n",
       " <div class=\"d-lg-flex flex-items-center col-lg-6\">\n",
       " <div class=\"width-full text-center p-3 py-lg-0\">\n",
       " <h1 class=\"story-title f2-light link-gray-dark lh-condensed mb-1\">Kris Nova</h1>\n",
       " <p class=\"f6 text-gray\">\n",
       "             Kubernetes/kops maintainer\n",
       "         </p>\n",
       " </div>\n",
       " </div>\n",
       " </a>,\n",
       " <a class=\"story-link d-block d-lg-flex height-full rounded-1 box-shadow-extra-large\" href=\" /open-source/stories/yyx990803 \">\n",
       " <div class=\"col-lg-6 position-relative\">\n",
       " <img alt=\"Yyx990803\" class=\"d-block width-full\" src=\"https://assets-cdn.github.com/images/modules/site/stories/developers/yyx990803.png\"/>\n",
       " </div>\n",
       " <div class=\"d-lg-flex flex-items-center col-lg-6\">\n",
       " <div class=\"width-full text-center p-3 py-lg-0\">\n",
       " <h1 class=\"story-title f2-light link-gray-dark lh-condensed mb-1\">Evan You</h1>\n",
       " <p class=\"f6 text-gray\">\n",
       "             Vue maintainer\n",
       "         </p>\n",
       " </div>\n",
       " </div>\n",
       " </a>,\n",
       " <a class=\"story-link story-link--customer d-block d-lg-flex height-full rounded-1 box-shadow-extra-large\" href=\" /business/customers/mapbox \">\n",
       " <div class=\"col-lg-6 position-relative\">\n",
       " <img alt=\"Mapbox\" class=\"d-block width-full\" src=\"https://assets-cdn.github.com/images/modules/site/stories/customers/mapbox.png\"/>\n",
       " </div>\n",
       " <div class=\"d-lg-flex flex-items-center col-lg-6\">\n",
       " <div class=\"width-full text-center p-3 py-lg-0\">\n",
       " <h1 class=\"story-title f2-light link-gray-dark lh-condensed mb-1\">Mapbox</h1>\n",
       " <p class=\"f6 text-gray\">\n",
       "             Software customer\n",
       "         </p>\n",
       " </div>\n",
       " </div>\n",
       " </a>,\n",
       " <a class=\"story-link d-block d-lg-flex height-full rounded-1 box-shadow-extra-large\" href=\" /open-source/stories/jessfraz \">\n",
       " <div class=\"col-lg-6 position-relative\">\n",
       " <img alt=\"Jessfraz\" class=\"d-block width-full\" src=\"https://assets-cdn.github.com/images/modules/site/stories/developers/jessfraz.png\"/>\n",
       " </div>\n",
       " <div class=\"d-lg-flex flex-items-center col-lg-6\">\n",
       " <div class=\"width-full text-center p-3 py-lg-0\">\n",
       " <h1 class=\"story-title f2-light link-gray-dark lh-condensed mb-1\">Jess Frazelle</h1>\n",
       " <p class=\"f6 text-gray\">\n",
       "             Kubernetes, previously Docker maintainer\n",
       "         </p>\n",
       " </div>\n",
       " </div>\n",
       " </a>,\n",
       " <a class=\"d-inline-block summarylink\" href=\"/open-source\">\n",
       " <div class=\"circle d-flex flex-column flex-justify-center text-center p-4 mx-auto mt-6 mb-3 m-md-3 bg-orange box-shadow-extra-large\">\n",
       " <span class=\"d-block f0-light text-white lh-condensed-ultra mb-2\">79M</span>\n",
       " <span class=\"f6 text-white\">repositories worldwide</span>\n",
       " </div>\n",
       " <div class=\"summarylink-btn d-flex flex-justify-between flex-items-center f5 text-gray-dark rounded-1 p-sm-4\">\n",
       " <p class=\"col-10 mb-0\">GitHub’s users create and maintain influential technologies alongside the world's largest <span class=\"text-orange-light\">open source community</span>.</p>\n",
       " <svg aria-hidden=\"true\" class=\"octicon octicon-triangle-right text-orange-light\" height=\"16\" version=\"1.1\" viewbox=\"0 0 6 16\" width=\"6\"><path d=\"M0 14l6-6-6-6z\" fill-rule=\"evenodd\"></path></svg>\n",
       " </div>\n",
       " </a>,\n",
       " <a class=\"d-inline-block summarylink\" href=\"/personal\">\n",
       " <div class=\"circle d-flex flex-column flex-justify-center text-center p-4 mx-auto mt-6 mb-3 m-md-3 bg-blue box-shadow-extra-large\">\n",
       " <span class=\"d-block f0-light text-white lh-condensed-ultra mb-2\">28M</span>\n",
       " <span class=\"f6 text-white\">developers worldwide</span>\n",
       " </div>\n",
       " <div class=\"summarylink-btn d-flex flex-justify-between flex-items-center f5 text-gray-dark rounded-1 p-sm-4\">\n",
       " <p class=\"col-10 mb-0\"><span class=\"text-blue\">Developers</span> use GitHub for personal projects, from experimenting with new programming languages to hosting their life’s work.</p>\n",
       " <svg aria-hidden=\"true\" class=\"octicon octicon-triangle-right text-blue\" height=\"16\" version=\"1.1\" viewbox=\"0 0 6 16\" width=\"6\"><path d=\"M0 14l6-6-6-6z\" fill-rule=\"evenodd\"></path></svg>\n",
       " </div>\n",
       " </a>,\n",
       " <a class=\"d-inline-block summarylink\" href=\"/business\">\n",
       " <div class=\"circle d-flex flex-column flex-justify-center text-center p-4 mx-auto mt-6 mb-3 m-md-3 bg-purple box-shadow-extra-large\">\n",
       " <span class=\"d-block f1-light text-white lh-condensed-ultra mb-2\">117K</span>\n",
       " <span class=\"f6 text-white\">businesses worldwide</span>\n",
       " </div>\n",
       " <div class=\"summarylink-btn d-flex flex-justify-between flex-items-center f5 text-gray-dark rounded-1 p-sm-4\">\n",
       " <p class=\"col-10 mb-0\"><span class=\"text-purple\">Businesses</span> of all sizes use GitHub to support their development process and to securely build software.</p>\n",
       " <svg aria-hidden=\"true\" class=\"octicon octicon-triangle-right text-purple\" height=\"16\" version=\"1.1\" viewbox=\"0 0 6 16\" width=\"6\"><path d=\"M0 14l6-6-6-6z\" fill-rule=\"evenodd\"></path></svg>\n",
       " </div>\n",
       " </a>,\n",
       " <a class=\"text-white\" href=\"https://help.github.com/terms\" target=\"_blank\">terms of service</a>,\n",
       " <a class=\"text-white\" href=\"https://help.github.com/privacy\" target=\"_blank\">privacy policy</a>,\n",
       " <a class=\"muted-link alt-text-small\" href=\"/features#code-review\">Code review</a>,\n",
       " <a class=\"muted-link alt-text-small\" href=\"/features#project-management\">Project management</a>,\n",
       " <a class=\"muted-link alt-text-small\" href=\"/features#community-management\">Community</a>,\n",
       " <a class=\"muted-link alt-text-small no-wrap\" href=\"/features#documentation\">Documentation</a>,\n",
       " <a class=\"muted-link alt-text-small\" href=\"/features#code-hosting\">Code hosting</a>,\n",
       " <a class=\"muted-link alt-text-small\" href=\"https://atom.io\">Atom</a>,\n",
       " <a class=\"muted-link alt-text-small\" href=\"http://electron.atom.io/\">Electron</a>,\n",
       " <a class=\"muted-link alt-text-small\" href=\"https://desktop.github.com/\">GitHub Desktop</a>,\n",
       " <a class=\"muted-link alt-text-small\" data-ga-click=\"Footer, go to api, text:api\" href=\"https://developer.github.com\">Developer API</a>,\n",
       " <a class=\"muted-link alt-text-small\" href=\"/personal\">Personal</a>,\n",
       " <a class=\"muted-link alt-text-small\" href=\"/open-source\">Open source</a>,\n",
       " <a class=\"muted-link alt-text-small\" href=\"/business\">Business</a>,\n",
       " <a class=\"muted-link alt-text-small\" href=\"https://education.github.com/\">Education</a>,\n",
       " <a class=\"muted-link alt-text-small\" href=\"/business/customers\">Customers</a>,\n",
       " <a class=\"muted-link alt-text-small\" href=\"https://partner.github.com/\">Partners</a>,\n",
       " <a class=\"muted-link alt-text-small\" href=\"https://community.github.com/\">Sponsorships</a>,\n",
       " <a class=\"muted-link alt-text-small\" data-ga-click=\"Footer, go to about, text:about\" href=\"https://github.com/about\">About</a>,\n",
       " <a class=\"muted-link alt-text-small\" data-ga-click=\"Footer, go to blog, text:blog\" href=\"https://github.com/blog\">Blog</a>,\n",
       " <a class=\"muted-link alt-text-small\" href=\"/about/careers\">Careers</a>,\n",
       " <a class=\"muted-link alt-text-small\" href=\"/about/press\">Press</a>,\n",
       " <a class=\"muted-link alt-text-small\" href=\"https://shop.github.com\">Shop</a>,\n",
       " <a class=\"muted-link alt-text-small\" data-ga-click=\"Footer, go to contact, text:contact\" href=\"https://github.com/contact\">Contact GitHub</a>,\n",
       " <a class=\"muted-link alt-text-small\" data-ga-click=\"Footer, go to community, text:community\" href=\"https://github.community\">Community Forum</a>,\n",
       " <a class=\"muted-link alt-text-small\" data-ga-click=\"Footer, go to help, text:help\" href=\"https://help.github.com\">Help</a>,\n",
       " <a class=\"muted-link alt-text-small\" data-ga-click=\"Footer, go to status, text:status\" href=\"https://status.github.com/\">Status</a>,\n",
       " <a class=\"muted-link alt-text-small\" data-ga-click=\"Footer, go to terms, text:terms\" href=\"https://help.github.com/articles/github-terms-of-service/\">Terms</a>,\n",
       " <a class=\"muted-link alt-text-small\" data-ga-click=\"Footer, go to privacy, text:privacy\" href=\"https://github.com/site/privacy\">Privacy</a>,\n",
       " <a class=\"muted-link alt-text-small\" data-ga-click=\"Footer, go to security, text:security\" href=\"https://help.github.com/articles/github-security/\">Security</a>,\n",
       " <a class=\"muted-link alt-text-small\" href=\"https://services.github.com/\">Training</a>,\n",
       " <a href=\"\">Reload</a>,\n",
       " <a href=\"\">Reload</a>]"
      ]
     },
     "execution_count": 20,
     "metadata": {},
     "output_type": "execute_result"
    }
   ],
   "source": [
    "soup.find_all('a')"
   ]
  },
  {
   "cell_type": "code",
   "execution_count": 21,
   "metadata": {},
   "outputs": [
    {
     "data": {
      "text/plain": [
       "[<p class=\"f6 text-gray\">\n",
       "             PhantomJS maintainer\n",
       "         </p>, <p class=\"f6 text-gray\">\n",
       "             PyBee maintainer\n",
       "         </p>, <p class=\"f6 text-gray\">\n",
       "             Marketing customer\n",
       "         </p>, <p class=\"f6 text-gray\">\n",
       "             Kubernetes/kops maintainer\n",
       "         </p>, <p class=\"f6 text-gray\">\n",
       "             Vue maintainer\n",
       "         </p>, <p class=\"f6 text-gray\">\n",
       "             Software customer\n",
       "         </p>, <p class=\"f6 text-gray\">\n",
       "             Kubernetes, previously Docker maintainer\n",
       "         </p>]"
      ]
     },
     "execution_count": 21,
     "metadata": {},
     "output_type": "execute_result"
    }
   ],
   "source": [
    "soup.find_all('p',{'class':'f6 text-gray'})"
   ]
  },
  {
   "cell_type": "code",
   "execution_count": null,
   "metadata": {
    "collapsed": true
   },
   "outputs": [],
   "source": []
  }
 ],
 "metadata": {
  "kernelspec": {
   "display_name": "Python 3",
   "language": "python",
   "name": "python3"
  },
  "language_info": {
   "codemirror_mode": {
    "name": "ipython",
    "version": 3
   },
   "file_extension": ".py",
   "mimetype": "text/x-python",
   "name": "python",
   "nbconvert_exporter": "python",
   "pygments_lexer": "ipython3",
   "version": "3.6.2"
  }
 },
 "nbformat": 4,
 "nbformat_minor": 2
}
