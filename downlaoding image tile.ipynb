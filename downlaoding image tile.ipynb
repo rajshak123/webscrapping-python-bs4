{
 "cells": [
  {
   "cell_type": "code",
   "execution_count": 50,
   "metadata": {
    "collapsed": true
   },
   "outputs": [],
   "source": [
    "import bs4\n",
    "import urllib3\n",
    "import lxml\n",
    "import pprint\n",
    "import json\n",
    "import re\n",
    "urllib3.disable_warnings()"
   ]
  },
  {
   "cell_type": "code",
   "execution_count": 51,
   "metadata": {},
   "outputs": [
    {
     "name": "stdout",
     "output_type": "stream",
     "text": [
      "Image Source: https://encrypted-tbn0.gstatic.com/images?q=tbn:ANd9GcSP1xuwDRelmLQf3aUcT6sm4QpkJWqorw0sHvMlxlYRwwwZi6leZx9Py58\n",
      "Image Source: https://encrypted-tbn0.gstatic.com/images?q=tbn:ANd9GcTOyc5CF8hmI6bvGBHqVRCjA5-1iZQB6pV2HzkOD2QX_ke18hrMNY2ZFbLC\n",
      "Image Source: https://encrypted-tbn0.gstatic.com/images?q=tbn:ANd9GcRzqDhqRuHS-UtWEX9PRe4sAhcPeoJrvEkPKSUhk1Lkkcc5p0d6TL7e5hE\n",
      "Image Source: https://encrypted-tbn0.gstatic.com/images?q=tbn:ANd9GcTk7Y1PNouNhVkYHhcSxZ-ual49hul2aijKg1sCGax3iLbbdSNGh0Ou-w8\n",
      "Image Source: https://encrypted-tbn0.gstatic.com/images?q=tbn:ANd9GcRiFohS6d9fgRUWvtK8QHE2gVK8qKDjlz0bm2H8Y_zQLGJWx0urXdJGSrsP\n"
     ]
    }
   ],
   "source": [
    "#script to get all the attributes of the object\n",
    "def dump(obj):\n",
    "   for attr in dir(obj):\n",
    "       if hasattr( obj, attr ):\n",
    "           print( \"obj.%s = %s\" % (attr, getattr(obj, attr)))\n",
    "\n",
    "\n",
    "\n",
    "\n",
    "movie = \"Avatar\"\n",
    "url  =\"https://www.google.com/search?q=\"+movie+\"&source=lnms&tbm=isch\"\n",
    "http = urllib3.PoolManager()\n",
    "page = http.request('GET',url)\n",
    "\n",
    "\n",
    "\n",
    "\n",
    "# dump(page)\n",
    "\n",
    "soup = bs4.BeautifulSoup(page._body,\"lxml\")\n",
    "images = [a['src'] for a in soup.find_all(\"img\", {\"src\":re.compile(\"gstatic.com\")})][:5]\n",
    "for img in images:\n",
    "    print(\"Image Source:\", img)\n"
   ]
  },
  {
   "cell_type": "code",
   "execution_count": 55,
   "metadata": {},
   "outputs": [],
   "source": [
    "import os\n",
    "image_type = \"Project\"\n",
    "for img in images:\n",
    "    raw_img = http.request('GET',img)._body\n",
    "    cntr = len([i for i in os.listdir(\".\") if image_type in i]) + 1\n",
    "    f = open(image_type + \"_\"+ str(cntr)+\".jpg\", 'wb')\n",
    "    f.write(raw_img)\n",
    "f.close()"
   ]
  },
  {
   "cell_type": "code",
   "execution_count": null,
   "metadata": {
    "collapsed": true
   },
   "outputs": [],
   "source": []
  },
  {
   "cell_type": "code",
   "execution_count": null,
   "metadata": {
    "collapsed": true
   },
   "outputs": [],
   "source": []
  },
  {
   "cell_type": "code",
   "execution_count": null,
   "metadata": {
    "collapsed": true
   },
   "outputs": [],
   "source": []
  }
 ],
 "metadata": {
  "kernelspec": {
   "display_name": "Python 3",
   "language": "python",
   "name": "python3"
  },
  "language_info": {
   "codemirror_mode": {
    "name": "ipython",
    "version": 3
   },
   "file_extension": ".py",
   "mimetype": "text/x-python",
   "name": "python",
   "nbconvert_exporter": "python",
   "pygments_lexer": "ipython3",
   "version": "3.6.2"
  }
 },
 "nbformat": 4,
 "nbformat_minor": 2
}
